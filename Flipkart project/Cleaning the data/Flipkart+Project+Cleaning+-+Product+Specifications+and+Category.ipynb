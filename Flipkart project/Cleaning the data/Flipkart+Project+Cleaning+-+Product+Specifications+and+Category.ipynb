{
 "cells": [
  {
   "cell_type": "markdown",
   "metadata": {},
   "source": [
    "# Flipkart data analysis page 4"
   ]
  },
  {
   "cell_type": "code",
   "execution_count": 1,
   "metadata": {
    "collapsed": true
   },
   "outputs": [],
   "source": [
    "import pandas as pd\n",
    "import numpy as np\n",
    "newdf = pd.read_csv('cleanedflipkart.csv')"
   ]
  },
  {
   "cell_type": "code",
   "execution_count": 3,
   "metadata": {},
   "outputs": [
    {
     "data": {
      "text/html": [
       "<div>\n",
       "<style>\n",
       "    .dataframe thead tr:only-child th {\n",
       "        text-align: right;\n",
       "    }\n",
       "\n",
       "    .dataframe thead th {\n",
       "        text-align: left;\n",
       "    }\n",
       "\n",
       "    .dataframe tbody tr th {\n",
       "        vertical-align: top;\n",
       "    }\n",
       "</style>\n",
       "<table border=\"1\" class=\"dataframe\">\n",
       "  <thead>\n",
       "    <tr style=\"text-align: right;\">\n",
       "      <th></th>\n",
       "      <th>Unnamed: 0</th>\n",
       "      <th>product_name</th>\n",
       "      <th>product_category_tree</th>\n",
       "      <th>retail_price</th>\n",
       "      <th>discounted_price</th>\n",
       "      <th>is_FK_Advantage_product</th>\n",
       "      <th>product_rating</th>\n",
       "      <th>overall_rating</th>\n",
       "      <th>product_specifications</th>\n",
       "      <th>Brand_names</th>\n",
       "    </tr>\n",
       "  </thead>\n",
       "  <tbody>\n",
       "    <tr>\n",
       "      <th>0</th>\n",
       "      <td>0</td>\n",
       "      <td>Alisha Solid Women's Cycling Shorts</td>\n",
       "      <td>[\"Clothing &gt;&gt; Women's Clothing &gt;&gt; Lingerie, Sl...</td>\n",
       "      <td>999.0</td>\n",
       "      <td>379.0</td>\n",
       "      <td>False</td>\n",
       "      <td>No rating available</td>\n",
       "      <td>No rating available</td>\n",
       "      <td>{\"product_specification\"=&gt;[{\"key\"=&gt;\"Number of ...</td>\n",
       "      <td>Alisha</td>\n",
       "    </tr>\n",
       "    <tr>\n",
       "      <th>1</th>\n",
       "      <td>1</td>\n",
       "      <td>FabHomeDecor Fabric Double Sofa Bed</td>\n",
       "      <td>[\"Furniture &gt;&gt; Living Room Furniture &gt;&gt; Sofa B...</td>\n",
       "      <td>32157.0</td>\n",
       "      <td>22646.0</td>\n",
       "      <td>False</td>\n",
       "      <td>No rating available</td>\n",
       "      <td>No rating available</td>\n",
       "      <td>{\"product_specification\"=&gt;[{\"key\"=&gt;\"Installati...</td>\n",
       "      <td>FabHomeDecor</td>\n",
       "    </tr>\n",
       "  </tbody>\n",
       "</table>\n",
       "</div>"
      ],
      "text/plain": [
       "   Unnamed: 0                         product_name  \\\n",
       "0           0  Alisha Solid Women's Cycling Shorts   \n",
       "1           1  FabHomeDecor Fabric Double Sofa Bed   \n",
       "\n",
       "                               product_category_tree  retail_price  \\\n",
       "0  [\"Clothing >> Women's Clothing >> Lingerie, Sl...         999.0   \n",
       "1  [\"Furniture >> Living Room Furniture >> Sofa B...       32157.0   \n",
       "\n",
       "   discounted_price  is_FK_Advantage_product       product_rating  \\\n",
       "0             379.0                    False  No rating available   \n",
       "1           22646.0                    False  No rating available   \n",
       "\n",
       "        overall_rating                             product_specifications  \\\n",
       "0  No rating available  {\"product_specification\"=>[{\"key\"=>\"Number of ...   \n",
       "1  No rating available  {\"product_specification\"=>[{\"key\"=>\"Installati...   \n",
       "\n",
       "    Brand_names  \n",
       "0        Alisha  \n",
       "1  FabHomeDecor  "
      ]
     },
     "execution_count": 3,
     "metadata": {},
     "output_type": "execute_result"
    }
   ],
   "source": [
    "newdf.head(2)"
   ]
  },
  {
   "cell_type": "code",
   "execution_count": 9,
   "metadata": {},
   "outputs": [
    {
     "name": "stdout",
     "output_type": "stream",
     "text": [
      "<class 'pandas.core.frame.DataFrame'>\n",
      "RangeIndex: 19449 entries, 0 to 19448\n",
      "Data columns (total 10 columns):\n",
      "Unnamed: 0                 19449 non-null int64\n",
      "product_name               19449 non-null object\n",
      "product_category_tree      19449 non-null object\n",
      "retail_price               19371 non-null float64\n",
      "discounted_price           19371 non-null float64\n",
      "is_FK_Advantage_product    19449 non-null bool\n",
      "product_rating             19449 non-null object\n",
      "overall_rating             19449 non-null object\n",
      "product_specifications     19435 non-null object\n",
      "Brand_names                19449 non-null object\n",
      "dtypes: bool(1), float64(2), int64(1), object(6)\n",
      "memory usage: 930.7+ KB\n"
     ]
    }
   ],
   "source": [
    "newdf.info()\n",
    "#newdf.drop(['Unnamed: 0'],axis=0,inplace=True)"
   ]
  },
  {
   "cell_type": "code",
   "execution_count": 14,
   "metadata": {},
   "outputs": [
    {
     "name": "stdout",
     "output_type": "stream",
     "text": [
      "<class 'pandas.core.frame.DataFrame'>\n",
      "RangeIndex: 19449 entries, 0 to 19448\n",
      "Data columns (total 10 columns):\n",
      "Unnamed: 0                 19449 non-null int64\n",
      "product_name               19449 non-null object\n",
      "product_category_tree      19449 non-null object\n",
      "retail_price               19371 non-null float64\n",
      "discounted_price           19371 non-null float64\n",
      "is_FK_Advantage_product    19449 non-null bool\n",
      "product_rating             19449 non-null object\n",
      "overall_rating             19449 non-null object\n",
      "product_specifications     19435 non-null object\n",
      "Brand_names                19449 non-null object\n",
      "dtypes: bool(1), float64(2), int64(1), object(6)\n",
      "memory usage: 930.7+ KB\n"
     ]
    }
   ],
   "source": [
    "newdf.info()"
   ]
  },
  {
   "cell_type": "markdown",
   "metadata": {},
   "source": [
    "### 14 missing product specifications to be handled"
   ]
  },
  {
   "cell_type": "markdown",
   "metadata": {},
   "source": [
    "## product_category from product_category_tree, taking just the parent category"
   ]
  },
  {
   "cell_type": "code",
   "execution_count": 16,
   "metadata": {
    "collapsed": true
   },
   "outputs": [],
   "source": [
    "def productcategorypred(x):\n",
    "    x = x.strip(\"''\")\n",
    "    x = x.strip(\"[]\")\n",
    "    x = x.strip(\" \" \" \")\n",
    "    x = x.split(\">>\")\n",
    "    return(x[0][1:])\n",
    "    \n",
    "newdf[\"product_category\"] = newdf[\"product_category_tree\"].apply(lambda x: productcategorypred(x))"
   ]
  },
  {
   "cell_type": "code",
   "execution_count": 17,
   "metadata": {},
   "outputs": [
    {
     "name": "stdout",
     "output_type": "stream",
     "text": [
      "<class 'pandas.core.frame.DataFrame'>\n",
      "RangeIndex: 19449 entries, 0 to 19448\n",
      "Data columns (total 11 columns):\n",
      "Unnamed: 0                 19449 non-null int64\n",
      "product_name               19449 non-null object\n",
      "product_category_tree      19449 non-null object\n",
      "retail_price               19371 non-null float64\n",
      "discounted_price           19371 non-null float64\n",
      "is_FK_Advantage_product    19449 non-null bool\n",
      "product_rating             19449 non-null object\n",
      "overall_rating             19449 non-null object\n",
      "product_specifications     19435 non-null object\n",
      "Brand_names                19449 non-null object\n",
      "product_category           19449 non-null object\n",
      "dtypes: bool(1), float64(2), int64(1), object(7)\n",
      "memory usage: 1006.7+ KB\n"
     ]
    }
   ],
   "source": [
    "newdf.info()"
   ]
  },
  {
   "cell_type": "code",
   "execution_count": 20,
   "metadata": {},
   "outputs": [
    {
     "data": {
      "text/plain": [
       "'Clothing '"
      ]
     },
     "execution_count": 20,
     "metadata": {},
     "output_type": "execute_result"
    }
   ],
   "source": [
    "newdf['product_category'][100]"
   ]
  },
  {
   "cell_type": "code",
   "execution_count": 23,
   "metadata": {},
   "outputs": [
    {
     "data": {
      "text/plain": [
       "numpy.float64"
      ]
     },
     "execution_count": 23,
     "metadata": {},
     "output_type": "execute_result"
    }
   ],
   "source": [
    "type(newdf['retail_price'][21])"
   ]
  },
  {
   "cell_type": "markdown",
   "metadata": {},
   "source": [
    "## retail_price,and discounted_price had some nan value, temporarily filled with 0 to avoid exceptions"
   ]
  },
  {
   "cell_type": "code",
   "execution_count": 33,
   "metadata": {
    "scrolled": true
   },
   "outputs": [
    {
     "name": "stdout",
     "output_type": "stream",
     "text": [
      "<class 'pandas.core.frame.DataFrame'>\n",
      "RangeIndex: 19449 entries, 0 to 19448\n",
      "Data columns (total 11 columns):\n",
      "Unnamed: 0                 19449 non-null int64\n",
      "product_name               19449 non-null object\n",
      "product_category_tree      19449 non-null object\n",
      "retail_price               19449 non-null float64\n",
      "discounted_price           19371 non-null float64\n",
      "is_FK_Advantage_product    19449 non-null bool\n",
      "product_rating             19449 non-null object\n",
      "overall_rating             19449 non-null object\n",
      "product_specifications     19435 non-null object\n",
      "Brand_names                19449 non-null object\n",
      "product_category           19449 non-null object\n",
      "dtypes: bool(1), float64(2), int64(1), object(7)\n",
      "memory usage: 1006.7+ KB\n"
     ]
    }
   ],
   "source": [
    "newdf['retail_price'].fillna(0,inplace=True)\n",
    "newdf.info()\n",
    "#newdf['discounted_price'].fillna(0,inplace=True)"
   ]
  },
  {
   "cell_type": "code",
   "execution_count": 34,
   "metadata": {
    "collapsed": true
   },
   "outputs": [],
   "source": [
    "newdf['discounted_price'].fillna(0,inplace=True)"
   ]
  },
  {
   "cell_type": "markdown",
   "metadata": {},
   "source": [
    "## The nan value here, too had the same issue, so type casting it all to string, and separating them"
   ]
  },
  {
   "cell_type": "code",
   "execution_count": 37,
   "metadata": {
    "collapsed": true
   },
   "outputs": [],
   "source": [
    "#newdf.info()\n",
    "def to_string(x):\n",
    "    return str(x)"
   ]
  },
  {
   "cell_type": "code",
   "execution_count": 38,
   "metadata": {
    "collapsed": true
   },
   "outputs": [],
   "source": [
    "newdf['product_specs_refined'] = newdf['product_specifications'].apply(to_string)"
   ]
  },
  {
   "cell_type": "code",
   "execution_count": 40,
   "metadata": {
    "collapsed": true
   },
   "outputs": [],
   "source": [
    "dfwithnan = newdf[newdf['product_specs_refined']=='nan']"
   ]
  },
  {
   "cell_type": "code",
   "execution_count": 46,
   "metadata": {
    "collapsed": true
   },
   "outputs": [],
   "source": [
    "dfnotwithnan = newdf[newdf['product_specs_refined']!='nan']"
   ]
  },
  {
   "cell_type": "code",
   "execution_count": 49,
   "metadata": {},
   "outputs": [
    {
     "name": "stdout",
     "output_type": "stream",
     "text": [
      "<class 'pandas.core.frame.DataFrame'>\n",
      "Int64Index: 19435 entries, 0 to 19448\n",
      "Data columns (total 12 columns):\n",
      "Unnamed: 0                 19435 non-null int64\n",
      "product_name               19435 non-null object\n",
      "product_category_tree      19435 non-null object\n",
      "retail_price               19435 non-null float64\n",
      "discounted_price           19435 non-null float64\n",
      "is_FK_Advantage_product    19435 non-null bool\n",
      "product_rating             19435 non-null object\n",
      "overall_rating             19435 non-null object\n",
      "product_specifications     19435 non-null object\n",
      "Brand_names                19435 non-null object\n",
      "product_category           19435 non-null object\n",
      "product_specs_refined      19435 non-null object\n",
      "dtypes: bool(1), float64(2), int64(1), object(8)\n",
      "memory usage: 1.2+ MB\n"
     ]
    }
   ],
   "source": [
    "dfnotwithnan.info()"
   ]
  },
  {
   "cell_type": "code",
   "execution_count": 41,
   "metadata": {
    "scrolled": true
   },
   "outputs": [
    {
     "name": "stdout",
     "output_type": "stream",
     "text": [
      "<class 'pandas.core.frame.DataFrame'>\n",
      "Int64Index: 14 entries, 21 to 13643\n",
      "Data columns (total 12 columns):\n",
      "Unnamed: 0                 14 non-null int64\n",
      "product_name               14 non-null object\n",
      "product_category_tree      14 non-null object\n",
      "retail_price               14 non-null float64\n",
      "discounted_price           14 non-null float64\n",
      "is_FK_Advantage_product    14 non-null bool\n",
      "product_rating             14 non-null object\n",
      "overall_rating             14 non-null object\n",
      "product_specifications     0 non-null object\n",
      "Brand_names                14 non-null object\n",
      "product_category           14 non-null object\n",
      "product_specs_refined      14 non-null object\n",
      "dtypes: bool(1), float64(2), int64(1), object(8)\n",
      "memory usage: 910.0+ bytes\n"
     ]
    }
   ],
   "source": [
    "dfwithnan.info()"
   ]
  },
  {
   "cell_type": "code",
   "execution_count": 45,
   "metadata": {},
   "outputs": [
    {
     "data": {
      "text/plain": [
       "'{\"product_specification\"=>[{\"key\"=>\"Number of Contents in Sales Package\", \"value\"=>\"Pack of 3\"}, {\"key\"=>\"Fabric\", \"value\"=>\"Cotton Lycra\"}, {\"key\"=>\"Type\", \"value\"=>\"Cycling Shorts\"}, {\"key\"=>\"Pattern\", \"value\"=>\"Solid\"}, {\"key\"=>\"Ideal For\", \"value\"=>\"Women\\'s\"}, {\"value\"=>\"Gentle Machine Wash in Lukewarm Water, Do Not Bleach\"}, {\"key\"=>\"Style Code\", \"value\"=>\"ALTHT_3P_21\"}, {\"value\"=>\"3 shorts\"}]}'"
      ]
     },
     "execution_count": 45,
     "metadata": {},
     "output_type": "execute_result"
    }
   ],
   "source": [
    "dfwithnan.head(1)\n",
    "newdf['product_specifications'][0]"
   ]
  },
  {
   "cell_type": "code",
   "execution_count": 57,
   "metadata": {},
   "outputs": [
    {
     "data": {
      "text/plain": [
       "str"
      ]
     },
     "execution_count": 57,
     "metadata": {},
     "output_type": "execute_result"
    }
   ],
   "source": [
    "type(dfnotwithnan['product_name'][0])"
   ]
  },
  {
   "cell_type": "code",
   "execution_count": 58,
   "metadata": {},
   "outputs": [
    {
     "data": {
      "text/plain": [
       "str"
      ]
     },
     "execution_count": 58,
     "metadata": {},
     "output_type": "execute_result"
    }
   ],
   "source": [
    "type(dfnotwithnan['product_specifications'][0])"
   ]
  },
  {
   "cell_type": "markdown",
   "metadata": {},
   "source": [
    "### Logic, matching product names should have near about equal specifications "
   ]
  },
  {
   "cell_type": "code",
   "execution_count": 61,
   "metadata": {
    "collapsed": true
   },
   "outputs": [],
   "source": [
    "spect_dict = {}\n",
    "for row_index,row in dfnotwithnan.iterrows():\n",
    "    #print(row)\n",
    "    spect_dict[row['product_name']] = row['product_specifications']\n",
    "    "
   ]
  },
  {
   "cell_type": "code",
   "execution_count": 54,
   "metadata": {},
   "outputs": [
    {
     "data": {
      "text/plain": [
       "dict"
      ]
     },
     "execution_count": 54,
     "metadata": {},
     "output_type": "execute_result"
    }
   ],
   "source": [
    "type(spect_dict)"
   ]
  },
  {
   "cell_type": "code",
   "execution_count": 65,
   "metadata": {
    "collapsed": true
   },
   "outputs": [],
   "source": [
    "#spect_dict\n",
    "dfwithnancopy = dfwithnan.copy()"
   ]
  },
  {
   "cell_type": "code",
   "execution_count": 67,
   "metadata": {},
   "outputs": [
    {
     "name": "stderr",
     "output_type": "stream",
     "text": [
      "C:\\Users\\h_asp\\Anaconda3\\lib\\site-packages\\ipykernel\\__main__.py:3: SettingWithCopyWarning: \n",
      "A value is trying to be set on a copy of a slice from a DataFrame\n",
      "\n",
      "See the caveats in the documentation: http://pandas.pydata.org/pandas-docs/stable/indexing.html#indexing-view-versus-copy\n",
      "  app.launch_new_instance()\n"
     ]
    }
   ],
   "source": [
    "for row_index,row in dfwithnancopy.iterrows():\n",
    "    if row['product_name'] in spect_dict.keys():\n",
    "        dfwithnancopy['product_specifications'][row_index] = spect_dict[row['product_name']]"
   ]
  },
  {
   "cell_type": "code",
   "execution_count": 74,
   "metadata": {},
   "outputs": [
    {
     "name": "stderr",
     "output_type": "stream",
     "text": [
      "C:\\Users\\h_asp\\Anaconda3\\lib\\site-packages\\ipykernel\\__main__.py:3: SettingWithCopyWarning: \n",
      "A value is trying to be set on a copy of a slice from a DataFrame\n",
      "\n",
      "See the caveats in the documentation: http://pandas.pydata.org/pandas-docs/stable/indexing.html#indexing-view-versus-copy\n",
      "  app.launch_new_instance()\n"
     ]
    }
   ],
   "source": [
    "for row_index,row in dfwithnancopy.iterrows():\n",
    "    if row['product_name'] in spect_dict.keys():\n",
    "        dfwithnancopy['product_specs_refined'][row_index] = spect_dict[row['product_name']]"
   ]
  },
  {
   "cell_type": "markdown",
   "metadata": {},
   "source": [
    "### Even after this filtering, 8 of the products' specification values could not be determined, hence dropped"
   ]
  },
  {
   "cell_type": "code",
   "execution_count": 75,
   "metadata": {
    "scrolled": true
   },
   "outputs": [
    {
     "name": "stdout",
     "output_type": "stream",
     "text": [
      "<class 'pandas.core.frame.DataFrame'>\n",
      "Int64Index: 14 entries, 21 to 13643\n",
      "Data columns (total 12 columns):\n",
      "Unnamed: 0                 14 non-null int64\n",
      "product_name               14 non-null object\n",
      "product_category_tree      14 non-null object\n",
      "retail_price               14 non-null float64\n",
      "discounted_price           14 non-null float64\n",
      "is_FK_Advantage_product    14 non-null bool\n",
      "product_rating             14 non-null object\n",
      "overall_rating             14 non-null object\n",
      "product_specifications     6 non-null object\n",
      "Brand_names                14 non-null object\n",
      "product_category           14 non-null object\n",
      "product_specs_refined      14 non-null object\n",
      "dtypes: bool(1), float64(2), int64(1), object(8)\n",
      "memory usage: 1.4+ KB\n"
     ]
    }
   ],
   "source": [
    "dfwithnancopy.info()"
   ]
  },
  {
   "cell_type": "code",
   "execution_count": 76,
   "metadata": {},
   "outputs": [
    {
     "data": {
      "text/html": [
       "<div>\n",
       "<style>\n",
       "    .dataframe thead tr:only-child th {\n",
       "        text-align: right;\n",
       "    }\n",
       "\n",
       "    .dataframe thead th {\n",
       "        text-align: left;\n",
       "    }\n",
       "\n",
       "    .dataframe tbody tr th {\n",
       "        vertical-align: top;\n",
       "    }\n",
       "</style>\n",
       "<table border=\"1\" class=\"dataframe\">\n",
       "  <thead>\n",
       "    <tr style=\"text-align: right;\">\n",
       "      <th></th>\n",
       "      <th>Unnamed: 0</th>\n",
       "      <th>product_name</th>\n",
       "      <th>product_category_tree</th>\n",
       "      <th>retail_price</th>\n",
       "      <th>discounted_price</th>\n",
       "      <th>is_FK_Advantage_product</th>\n",
       "      <th>product_rating</th>\n",
       "      <th>overall_rating</th>\n",
       "      <th>product_specifications</th>\n",
       "      <th>Brand_names</th>\n",
       "      <th>product_category</th>\n",
       "      <th>product_specs_refined</th>\n",
       "    </tr>\n",
       "  </thead>\n",
       "  <tbody>\n",
       "    <tr>\n",
       "      <th>21</th>\n",
       "      <td>21</td>\n",
       "      <td>Alisha Solid Women's Cycling Shorts</td>\n",
       "      <td>[\"Clothing &gt;&gt; Women's Clothing &gt;&gt; Lingerie, Sl...</td>\n",
       "      <td>0.0</td>\n",
       "      <td>0.0</td>\n",
       "      <td>False</td>\n",
       "      <td>No rating available</td>\n",
       "      <td>No rating available</td>\n",
       "      <td>{\"product_specification\"=&gt;[{\"key\"=&gt;\"Number of ...</td>\n",
       "      <td>Alisha</td>\n",
       "      <td>Clothing</td>\n",
       "      <td>{\"product_specification\"=&gt;[{\"key\"=&gt;\"Number of ...</td>\n",
       "    </tr>\n",
       "  </tbody>\n",
       "</table>\n",
       "</div>"
      ],
      "text/plain": [
       "    Unnamed: 0                         product_name  \\\n",
       "21          21  Alisha Solid Women's Cycling Shorts   \n",
       "\n",
       "                                product_category_tree  retail_price  \\\n",
       "21  [\"Clothing >> Women's Clothing >> Lingerie, Sl...           0.0   \n",
       "\n",
       "    discounted_price  is_FK_Advantage_product       product_rating  \\\n",
       "21               0.0                    False  No rating available   \n",
       "\n",
       "         overall_rating                             product_specifications  \\\n",
       "21  No rating available  {\"product_specification\"=>[{\"key\"=>\"Number of ...   \n",
       "\n",
       "   Brand_names product_category  \\\n",
       "21      Alisha        Clothing    \n",
       "\n",
       "                                product_specs_refined  \n",
       "21  {\"product_specification\"=>[{\"key\"=>\"Number of ...  "
      ]
     },
     "execution_count": 76,
     "metadata": {},
     "output_type": "execute_result"
    }
   ],
   "source": [
    "dfwithnancopy.head(1)"
   ]
  },
  {
   "cell_type": "code",
   "execution_count": 77,
   "metadata": {
    "collapsed": true
   },
   "outputs": [],
   "source": [
    "dfspecscleaned = dfwithnancopy[dfwithnancopy['product_specs_refined'] != 'nan']"
   ]
  },
  {
   "cell_type": "code",
   "execution_count": 87,
   "metadata": {},
   "outputs": [
    {
     "name": "stdout",
     "output_type": "stream",
     "text": [
      "<class 'pandas.core.frame.DataFrame'>\n",
      "Int64Index: 6 entries, 21 to 12585\n",
      "Data columns (total 12 columns):\n",
      "Unnamed: 0                 6 non-null int64\n",
      "product_name               6 non-null object\n",
      "product_category_tree      6 non-null object\n",
      "retail_price               6 non-null float64\n",
      "discounted_price           6 non-null float64\n",
      "is_FK_Advantage_product    6 non-null bool\n",
      "product_rating             6 non-null object\n",
      "overall_rating             6 non-null object\n",
      "product_specifications     6 non-null object\n",
      "Brand_names                6 non-null object\n",
      "product_category           6 non-null object\n",
      "product_specs_refined      6 non-null object\n",
      "dtypes: bool(1), float64(2), int64(1), object(8)\n",
      "memory usage: 390.0+ bytes\n"
     ]
    }
   ],
   "source": [
    "dfspecscleaned.info()\n",
    "dff2 = dfspecscleaned.copy()"
   ]
  },
  {
   "cell_type": "code",
   "execution_count": 88,
   "metadata": {
    "collapsed": true
   },
   "outputs": [],
   "source": [
    "dff2.drop(['product_specifications'],axis=1,inplace=True)"
   ]
  },
  {
   "cell_type": "code",
   "execution_count": 83,
   "metadata": {
    "collapsed": true
   },
   "outputs": [],
   "source": [
    "dfnotwithnan.head(1)\n",
    "dff1 = dfnotwithnan.copy()"
   ]
  },
  {
   "cell_type": "code",
   "execution_count": 84,
   "metadata": {
    "collapsed": true
   },
   "outputs": [],
   "source": [
    "dff1.drop(['product_specifications'],axis=1,inplace=True)"
   ]
  },
  {
   "cell_type": "code",
   "execution_count": 89,
   "metadata": {},
   "outputs": [
    {
     "name": "stdout",
     "output_type": "stream",
     "text": [
      "<class 'pandas.core.frame.DataFrame'>\n",
      "Int64Index: 19435 entries, 0 to 19448\n",
      "Data columns (total 11 columns):\n",
      "Unnamed: 0                 19435 non-null int64\n",
      "product_name               19435 non-null object\n",
      "product_category_tree      19435 non-null object\n",
      "retail_price               19435 non-null float64\n",
      "discounted_price           19435 non-null float64\n",
      "is_FK_Advantage_product    19435 non-null bool\n",
      "product_rating             19435 non-null object\n",
      "overall_rating             19435 non-null object\n",
      "Brand_names                19435 non-null object\n",
      "product_category           19435 non-null object\n",
      "product_specs_refined      19435 non-null object\n",
      "dtypes: bool(1), float64(2), int64(1), object(7)\n",
      "memory usage: 1.1+ MB\n"
     ]
    }
   ],
   "source": [
    "dff1.info()"
   ]
  },
  {
   "cell_type": "code",
   "execution_count": 90,
   "metadata": {
    "collapsed": true
   },
   "outputs": [],
   "source": [
    "frames = [dff1,dff2]"
   ]
  },
  {
   "cell_type": "code",
   "execution_count": 91,
   "metadata": {
    "collapsed": true
   },
   "outputs": [],
   "source": [
    "final_flipkart = pd.concat(frames)"
   ]
  },
  {
   "cell_type": "code",
   "execution_count": 92,
   "metadata": {},
   "outputs": [
    {
     "name": "stdout",
     "output_type": "stream",
     "text": [
      "<class 'pandas.core.frame.DataFrame'>\n",
      "Int64Index: 19441 entries, 0 to 12585\n",
      "Data columns (total 11 columns):\n",
      "Unnamed: 0                 19441 non-null int64\n",
      "product_name               19441 non-null object\n",
      "product_category_tree      19441 non-null object\n",
      "retail_price               19441 non-null float64\n",
      "discounted_price           19441 non-null float64\n",
      "is_FK_Advantage_product    19441 non-null bool\n",
      "product_rating             19441 non-null object\n",
      "overall_rating             19441 non-null object\n",
      "Brand_names                19441 non-null object\n",
      "product_category           19441 non-null object\n",
      "product_specs_refined      19441 non-null object\n",
      "dtypes: bool(1), float64(2), int64(1), object(7)\n",
      "memory usage: 1.1+ MB\n"
     ]
    }
   ],
   "source": [
    "final_flipkart.info()"
   ]
  },
  {
   "cell_type": "code",
   "execution_count": 93,
   "metadata": {
    "collapsed": true
   },
   "outputs": [],
   "source": [
    "final_flipkart.to_csv('flipkart_spec_cat_brand.csv',encoding ='utf-8')"
   ]
  },
  {
   "cell_type": "markdown",
   "metadata": {
    "collapsed": true
   },
   "source": [
    "### This dataframe now consists of filtered brand names, specification values, and categories, with zeros in nan values of dicounted and retail prices"
   ]
  },
  {
   "cell_type": "markdown",
   "metadata": {},
   "source": [
    "Next see the Retail price, rating cleaning"
   ]
  },
  {
   "cell_type": "code",
   "execution_count": null,
   "metadata": {
    "collapsed": true
   },
   "outputs": [],
   "source": []
  }
 ],
 "metadata": {
  "kernelspec": {
   "display_name": "Python [conda env:Anaconda3]",
   "language": "python",
   "name": "conda-env-Anaconda3-py"
  },
  "language_info": {
   "codemirror_mode": {
    "name": "ipython",
    "version": 3
   },
   "file_extension": ".py",
   "mimetype": "text/x-python",
   "name": "python",
   "nbconvert_exporter": "python",
   "pygments_lexer": "ipython3",
   "version": "3.6.4"
  }
 },
 "nbformat": 4,
 "nbformat_minor": 2
}
