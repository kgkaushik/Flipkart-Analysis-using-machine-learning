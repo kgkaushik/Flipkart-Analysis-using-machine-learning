{
 "cells": [
  {
   "cell_type": "markdown",
   "metadata": {},
   "source": [
    "# Flipkart data Analysis page 3"
   ]
  },
  {
   "cell_type": "code",
   "execution_count": 1,
   "metadata": {
    "collapsed": true
   },
   "outputs": [],
   "source": [
    "import numpy as np\n",
    "import pandas as pd"
   ]
  },
  {
   "cell_type": "code",
   "execution_count": 119,
   "metadata": {
    "collapsed": true
   },
   "outputs": [],
   "source": [
    "df = pd.read_csv('flipkart_spec_cat_brand.csv')"
   ]
  },
  {
   "cell_type": "code",
   "execution_count": 120,
   "metadata": {
    "scrolled": true
   },
   "outputs": [
    {
     "name": "stdout",
     "output_type": "stream",
     "text": [
      "<class 'pandas.core.frame.DataFrame'>\n",
      "RangeIndex: 19441 entries, 0 to 19440\n",
      "Data columns (total 12 columns):\n",
      "Unnamed: 0                 19441 non-null int64\n",
      "Unnamed: 0.1               19441 non-null int64\n",
      "product_name               19441 non-null object\n",
      "product_category_tree      19441 non-null object\n",
      "retail_price               19441 non-null float64\n",
      "discounted_price           19441 non-null float64\n",
      "is_FK_Advantage_product    19441 non-null bool\n",
      "product_rating             19441 non-null object\n",
      "overall_rating             19441 non-null object\n",
      "Brand_names                19441 non-null object\n",
      "product_category           19441 non-null object\n",
      "product_specs_refined      19441 non-null object\n",
      "dtypes: bool(1), float64(2), int64(2), object(7)\n",
      "memory usage: 1.1+ MB\n"
     ]
    }
   ],
   "source": [
    "df.info()"
   ]
  },
  {
   "cell_type": "code",
   "execution_count": 121,
   "metadata": {
    "collapsed": true
   },
   "outputs": [],
   "source": [
    "x = list(df.columns)\n",
    "x[0],x[1] = 'a','b'\n",
    "df.columns = x\n",
    "df.drop(['a','b'],axis=1,inplace=True)\n",
    "#'product_category_tree','product_name','product_specs_refined','is_FK_Advantage_product'],axis=1,inplace=True)"
   ]
  },
  {
   "cell_type": "code",
   "execution_count": 122,
   "metadata": {},
   "outputs": [
    {
     "data": {
      "text/html": [
       "<div>\n",
       "<style>\n",
       "    .dataframe thead tr:only-child th {\n",
       "        text-align: right;\n",
       "    }\n",
       "\n",
       "    .dataframe thead th {\n",
       "        text-align: left;\n",
       "    }\n",
       "\n",
       "    .dataframe tbody tr th {\n",
       "        vertical-align: top;\n",
       "    }\n",
       "</style>\n",
       "<table border=\"1\" class=\"dataframe\">\n",
       "  <thead>\n",
       "    <tr style=\"text-align: right;\">\n",
       "      <th></th>\n",
       "      <th>product_name</th>\n",
       "      <th>product_category_tree</th>\n",
       "      <th>retail_price</th>\n",
       "      <th>discounted_price</th>\n",
       "      <th>is_FK_Advantage_product</th>\n",
       "      <th>product_rating</th>\n",
       "      <th>overall_rating</th>\n",
       "      <th>Brand_names</th>\n",
       "      <th>product_category</th>\n",
       "      <th>product_specs_refined</th>\n",
       "    </tr>\n",
       "  </thead>\n",
       "  <tbody>\n",
       "    <tr>\n",
       "      <th>0</th>\n",
       "      <td>Alisha Solid Women's Cycling Shorts</td>\n",
       "      <td>[\"Clothing &gt;&gt; Women's Clothing &gt;&gt; Lingerie, Sl...</td>\n",
       "      <td>999.0</td>\n",
       "      <td>379.0</td>\n",
       "      <td>False</td>\n",
       "      <td>No rating available</td>\n",
       "      <td>No rating available</td>\n",
       "      <td>Alisha</td>\n",
       "      <td>Clothing</td>\n",
       "      <td>{\"product_specification\"=&gt;[{\"key\"=&gt;\"Number of ...</td>\n",
       "    </tr>\n",
       "    <tr>\n",
       "      <th>1</th>\n",
       "      <td>FabHomeDecor Fabric Double Sofa Bed</td>\n",
       "      <td>[\"Furniture &gt;&gt; Living Room Furniture &gt;&gt; Sofa B...</td>\n",
       "      <td>32157.0</td>\n",
       "      <td>22646.0</td>\n",
       "      <td>False</td>\n",
       "      <td>No rating available</td>\n",
       "      <td>No rating available</td>\n",
       "      <td>FabHomeDecor</td>\n",
       "      <td>Furniture</td>\n",
       "      <td>{\"product_specification\"=&gt;[{\"key\"=&gt;\"Installati...</td>\n",
       "    </tr>\n",
       "  </tbody>\n",
       "</table>\n",
       "</div>"
      ],
      "text/plain": [
       "                          product_name  \\\n",
       "0  Alisha Solid Women's Cycling Shorts   \n",
       "1  FabHomeDecor Fabric Double Sofa Bed   \n",
       "\n",
       "                               product_category_tree  retail_price  \\\n",
       "0  [\"Clothing >> Women's Clothing >> Lingerie, Sl...         999.0   \n",
       "1  [\"Furniture >> Living Room Furniture >> Sofa B...       32157.0   \n",
       "\n",
       "   discounted_price  is_FK_Advantage_product       product_rating  \\\n",
       "0             379.0                    False  No rating available   \n",
       "1           22646.0                    False  No rating available   \n",
       "\n",
       "        overall_rating   Brand_names product_category  \\\n",
       "0  No rating available        Alisha        Clothing    \n",
       "1  No rating available  FabHomeDecor       Furniture    \n",
       "\n",
       "                               product_specs_refined  \n",
       "0  {\"product_specification\"=>[{\"key\"=>\"Number of ...  \n",
       "1  {\"product_specification\"=>[{\"key\"=>\"Installati...  "
      ]
     },
     "execution_count": 122,
     "metadata": {},
     "output_type": "execute_result"
    }
   ],
   "source": [
    "df.head(2)"
   ]
  },
  {
   "cell_type": "code",
   "execution_count": 123,
   "metadata": {},
   "outputs": [
    {
     "data": {
      "text/html": [
       "<div>\n",
       "<style>\n",
       "    .dataframe thead tr:only-child th {\n",
       "        text-align: right;\n",
       "    }\n",
       "\n",
       "    .dataframe thead th {\n",
       "        text-align: left;\n",
       "    }\n",
       "\n",
       "    .dataframe tbody tr th {\n",
       "        vertical-align: top;\n",
       "    }\n",
       "</style>\n",
       "<table border=\"1\" class=\"dataframe\">\n",
       "  <thead>\n",
       "    <tr style=\"text-align: right;\">\n",
       "      <th></th>\n",
       "      <th>product_name</th>\n",
       "      <th>product_category_tree</th>\n",
       "      <th>retail_price</th>\n",
       "      <th>discounted_price</th>\n",
       "      <th>is_FK_Advantage_product</th>\n",
       "      <th>product_rating</th>\n",
       "      <th>overall_rating</th>\n",
       "      <th>Brand_names</th>\n",
       "      <th>product_category</th>\n",
       "      <th>product_specs_refined</th>\n",
       "    </tr>\n",
       "  </thead>\n",
       "  <tbody>\n",
       "    <tr>\n",
       "      <th>12</th>\n",
       "      <td>Sicons All Purpose Tea Tree Dog Shampoo</td>\n",
       "      <td>[\"Pet Supplies &gt;&gt; Grooming &gt;&gt; Skin &amp; Coat Care...</td>\n",
       "      <td>0.0</td>\n",
       "      <td>0.0</td>\n",
       "      <td>False</td>\n",
       "      <td>No rating available</td>\n",
       "      <td>No rating available</td>\n",
       "      <td>Sicons</td>\n",
       "      <td>Pet Supplies</td>\n",
       "      <td>{\"product_specification\"=&gt;[{\"key\"=&gt;\"Pet Type\",...</td>\n",
       "    </tr>\n",
       "    <tr>\n",
       "      <th>70</th>\n",
       "      <td>Eurospa Cotton Terry Face Towel Set</td>\n",
       "      <td>[\"Baby Care &gt;&gt; Baby Bath &amp; Skin &gt;&gt; Baby Bath T...</td>\n",
       "      <td>0.0</td>\n",
       "      <td>0.0</td>\n",
       "      <td>False</td>\n",
       "      <td>No rating available</td>\n",
       "      <td>No rating available</td>\n",
       "      <td>Eurospa</td>\n",
       "      <td>Baby Care</td>\n",
       "      <td>{\"product_specification\"=&gt;[{\"key\"=&gt;\"Material\",...</td>\n",
       "    </tr>\n",
       "    <tr>\n",
       "      <th>707</th>\n",
       "      <td>Techware Microwavable Tea Cups WF13115 - Purpl...</td>\n",
       "      <td>[\"Kitchen &amp; Dining &gt;&gt; Dinnerware &amp; Crockery &gt;&gt;...</td>\n",
       "      <td>0.0</td>\n",
       "      <td>0.0</td>\n",
       "      <td>False</td>\n",
       "      <td>No rating available</td>\n",
       "      <td>No rating available</td>\n",
       "      <td>Techware</td>\n",
       "      <td>Kitchen &amp; Dining</td>\n",
       "      <td>{\"product_specification\"=&gt;[{\"key\"=&gt;\"Brand\", \"v...</td>\n",
       "    </tr>\n",
       "  </tbody>\n",
       "</table>\n",
       "</div>"
      ],
      "text/plain": [
       "                                          product_name  \\\n",
       "12             Sicons All Purpose Tea Tree Dog Shampoo   \n",
       "70                 Eurospa Cotton Terry Face Towel Set   \n",
       "707  Techware Microwavable Tea Cups WF13115 - Purpl...   \n",
       "\n",
       "                                 product_category_tree  retail_price  \\\n",
       "12   [\"Pet Supplies >> Grooming >> Skin & Coat Care...           0.0   \n",
       "70   [\"Baby Care >> Baby Bath & Skin >> Baby Bath T...           0.0   \n",
       "707  [\"Kitchen & Dining >> Dinnerware & Crockery >>...           0.0   \n",
       "\n",
       "     discounted_price  is_FK_Advantage_product       product_rating  \\\n",
       "12                0.0                    False  No rating available   \n",
       "70                0.0                    False  No rating available   \n",
       "707               0.0                    False  No rating available   \n",
       "\n",
       "          overall_rating Brand_names   product_category  \\\n",
       "12   No rating available      Sicons      Pet Supplies    \n",
       "70   No rating available     Eurospa         Baby Care    \n",
       "707  No rating available    Techware  Kitchen & Dining    \n",
       "\n",
       "                                 product_specs_refined  \n",
       "12   {\"product_specification\"=>[{\"key\"=>\"Pet Type\",...  \n",
       "70   {\"product_specification\"=>[{\"key\"=>\"Material\",...  \n",
       "707  {\"product_specification\"=>[{\"key\"=>\"Brand\", \"v...  "
      ]
     },
     "execution_count": 123,
     "metadata": {},
     "output_type": "execute_result"
    }
   ],
   "source": [
    "df[df['retail_price']==0].head(3)"
   ]
  },
  {
   "cell_type": "code",
   "execution_count": 124,
   "metadata": {},
   "outputs": [
    {
     "data": {
      "text/html": [
       "<div>\n",
       "<style>\n",
       "    .dataframe thead tr:only-child th {\n",
       "        text-align: right;\n",
       "    }\n",
       "\n",
       "    .dataframe thead th {\n",
       "        text-align: left;\n",
       "    }\n",
       "\n",
       "    .dataframe tbody tr th {\n",
       "        vertical-align: top;\n",
       "    }\n",
       "</style>\n",
       "<table border=\"1\" class=\"dataframe\">\n",
       "  <thead>\n",
       "    <tr style=\"text-align: right;\">\n",
       "      <th></th>\n",
       "      <th>product_name</th>\n",
       "      <th>product_category_tree</th>\n",
       "      <th>retail_price</th>\n",
       "      <th>discounted_price</th>\n",
       "      <th>is_FK_Advantage_product</th>\n",
       "      <th>product_rating</th>\n",
       "      <th>overall_rating</th>\n",
       "      <th>Brand_names</th>\n",
       "      <th>product_category</th>\n",
       "      <th>product_specs_refined</th>\n",
       "    </tr>\n",
       "  </thead>\n",
       "  <tbody>\n",
       "    <tr>\n",
       "      <th>12</th>\n",
       "      <td>Sicons All Purpose Tea Tree Dog Shampoo</td>\n",
       "      <td>[\"Pet Supplies &gt;&gt; Grooming &gt;&gt; Skin &amp; Coat Care...</td>\n",
       "      <td>0.0</td>\n",
       "      <td>0.0</td>\n",
       "      <td>False</td>\n",
       "      <td>No rating available</td>\n",
       "      <td>No rating available</td>\n",
       "      <td>Sicons</td>\n",
       "      <td>Pet Supplies</td>\n",
       "      <td>{\"product_specification\"=&gt;[{\"key\"=&gt;\"Pet Type\",...</td>\n",
       "    </tr>\n",
       "    <tr>\n",
       "      <th>70</th>\n",
       "      <td>Eurospa Cotton Terry Face Towel Set</td>\n",
       "      <td>[\"Baby Care &gt;&gt; Baby Bath &amp; Skin &gt;&gt; Baby Bath T...</td>\n",
       "      <td>0.0</td>\n",
       "      <td>0.0</td>\n",
       "      <td>False</td>\n",
       "      <td>No rating available</td>\n",
       "      <td>No rating available</td>\n",
       "      <td>Eurospa</td>\n",
       "      <td>Baby Care</td>\n",
       "      <td>{\"product_specification\"=&gt;[{\"key\"=&gt;\"Material\",...</td>\n",
       "    </tr>\n",
       "    <tr>\n",
       "      <th>707</th>\n",
       "      <td>Techware Microwavable Tea Cups WF13115 - Purpl...</td>\n",
       "      <td>[\"Kitchen &amp; Dining &gt;&gt; Dinnerware &amp; Crockery &gt;&gt;...</td>\n",
       "      <td>0.0</td>\n",
       "      <td>0.0</td>\n",
       "      <td>False</td>\n",
       "      <td>No rating available</td>\n",
       "      <td>No rating available</td>\n",
       "      <td>Techware</td>\n",
       "      <td>Kitchen &amp; Dining</td>\n",
       "      <td>{\"product_specification\"=&gt;[{\"key\"=&gt;\"Brand\", \"v...</td>\n",
       "    </tr>\n",
       "  </tbody>\n",
       "</table>\n",
       "</div>"
      ],
      "text/plain": [
       "                                          product_name  \\\n",
       "12             Sicons All Purpose Tea Tree Dog Shampoo   \n",
       "70                 Eurospa Cotton Terry Face Towel Set   \n",
       "707  Techware Microwavable Tea Cups WF13115 - Purpl...   \n",
       "\n",
       "                                 product_category_tree  retail_price  \\\n",
       "12   [\"Pet Supplies >> Grooming >> Skin & Coat Care...           0.0   \n",
       "70   [\"Baby Care >> Baby Bath & Skin >> Baby Bath T...           0.0   \n",
       "707  [\"Kitchen & Dining >> Dinnerware & Crockery >>...           0.0   \n",
       "\n",
       "     discounted_price  is_FK_Advantage_product       product_rating  \\\n",
       "12                0.0                    False  No rating available   \n",
       "70                0.0                    False  No rating available   \n",
       "707               0.0                    False  No rating available   \n",
       "\n",
       "          overall_rating Brand_names   product_category  \\\n",
       "12   No rating available      Sicons      Pet Supplies    \n",
       "70   No rating available     Eurospa         Baby Care    \n",
       "707  No rating available    Techware  Kitchen & Dining    \n",
       "\n",
       "                                 product_specs_refined  \n",
       "12   {\"product_specification\"=>[{\"key\"=>\"Pet Type\",...  \n",
       "70   {\"product_specification\"=>[{\"key\"=>\"Material\",...  \n",
       "707  {\"product_specification\"=>[{\"key\"=>\"Brand\", \"v...  "
      ]
     },
     "execution_count": 124,
     "metadata": {},
     "output_type": "execute_result"
    }
   ],
   "source": [
    "df[df['discounted_price']==0].head(3)"
   ]
  },
  {
   "cell_type": "markdown",
   "metadata": {},
   "source": [
    "## The prices which are equal to zero are taken out"
   ]
  },
  {
   "cell_type": "code",
   "execution_count": 125,
   "metadata": {},
   "outputs": [
    {
     "name": "stdout",
     "output_type": "stream",
     "text": [
      "<class 'pandas.core.frame.DataFrame'>\n",
      "Int64Index: 78 entries, 12 to 19438\n",
      "Data columns (total 10 columns):\n",
      "product_name               78 non-null object\n",
      "product_category_tree      78 non-null object\n",
      "retail_price               78 non-null float64\n",
      "discounted_price           78 non-null float64\n",
      "is_FK_Advantage_product    78 non-null bool\n",
      "product_rating             78 non-null object\n",
      "overall_rating             78 non-null object\n",
      "Brand_names                78 non-null object\n",
      "product_category           78 non-null object\n",
      "product_specs_refined      78 non-null object\n",
      "dtypes: bool(1), float64(2), object(7)\n",
      "memory usage: 4.0+ KB\n",
      "<class 'pandas.core.frame.DataFrame'>\n",
      "Int64Index: 78 entries, 12 to 19438\n",
      "Data columns (total 10 columns):\n",
      "product_name               78 non-null object\n",
      "product_category_tree      78 non-null object\n",
      "retail_price               78 non-null float64\n",
      "discounted_price           78 non-null float64\n",
      "is_FK_Advantage_product    78 non-null bool\n",
      "product_rating             78 non-null object\n",
      "overall_rating             78 non-null object\n",
      "Brand_names                78 non-null object\n",
      "product_category           78 non-null object\n",
      "product_specs_refined      78 non-null object\n",
      "dtypes: bool(1), float64(2), object(7)\n",
      "memory usage: 4.0+ KB\n"
     ]
    }
   ],
   "source": [
    "df[df['retail_price']==0].info()\n",
    "df[df['discounted_price']==0].info()"
   ]
  },
  {
   "cell_type": "code",
   "execution_count": 126,
   "metadata": {
    "collapsed": true
   },
   "outputs": [],
   "source": [
    "df_no_retail_disc = df[df['retail_price']==0]"
   ]
  },
  {
   "cell_type": "code",
   "execution_count": 127,
   "metadata": {
    "collapsed": true
   },
   "outputs": [],
   "source": [
    "df_retail_disc = df[df['retail_price']!=0]"
   ]
  },
  {
   "cell_type": "markdown",
   "metadata": {},
   "source": [
    "## Mean had too much potential of tampering with the inferences with mean data almost equal 3300 for retail, hence filling it with median"
   ]
  },
  {
   "cell_type": "code",
   "execution_count": 128,
   "metadata": {},
   "outputs": [
    {
     "data": {
      "text/plain": [
       "1049.0"
      ]
     },
     "execution_count": 128,
     "metadata": {},
     "output_type": "execute_result"
    }
   ],
   "source": [
    "df_retail_disc['retail_price'].median()"
   ]
  },
  {
   "cell_type": "code",
   "execution_count": 129,
   "metadata": {},
   "outputs": [
    {
     "data": {
      "text/plain": [
       "554.0"
      ]
     },
     "execution_count": 129,
     "metadata": {},
     "output_type": "execute_result"
    }
   ],
   "source": [
    "df_retail_disc['discounted_price'].median()"
   ]
  },
  {
   "cell_type": "code",
   "execution_count": 130,
   "metadata": {
    "scrolled": true
   },
   "outputs": [
    {
     "name": "stderr",
     "output_type": "stream",
     "text": [
      "C:\\Users\\h_asp\\Anaconda3\\lib\\site-packages\\ipykernel\\__main__.py:1: SettingWithCopyWarning: \n",
      "A value is trying to be set on a copy of a slice from a DataFrame.\n",
      "Try using .loc[row_indexer,col_indexer] = value instead\n",
      "\n",
      "See the caveats in the documentation: http://pandas.pydata.org/pandas-docs/stable/indexing.html#indexing-view-versus-copy\n",
      "  if __name__ == '__main__':\n",
      "C:\\Users\\h_asp\\Anaconda3\\lib\\site-packages\\ipykernel\\__main__.py:2: SettingWithCopyWarning: \n",
      "A value is trying to be set on a copy of a slice from a DataFrame.\n",
      "Try using .loc[row_indexer,col_indexer] = value instead\n",
      "\n",
      "See the caveats in the documentation: http://pandas.pydata.org/pandas-docs/stable/indexing.html#indexing-view-versus-copy\n",
      "  from ipykernel import kernelapp as app\n"
     ]
    }
   ],
   "source": [
    "df_no_retail_disc['retail_price'] = df_retail_disc['retail_price'].median()\n",
    "df_no_retail_disc['discounted_price'] = df_retail_disc['discounted_price'].median()"
   ]
  },
  {
   "cell_type": "code",
   "execution_count": 131,
   "metadata": {},
   "outputs": [
    {
     "data": {
      "text/html": [
       "<div>\n",
       "<style>\n",
       "    .dataframe thead tr:only-child th {\n",
       "        text-align: right;\n",
       "    }\n",
       "\n",
       "    .dataframe thead th {\n",
       "        text-align: left;\n",
       "    }\n",
       "\n",
       "    .dataframe tbody tr th {\n",
       "        vertical-align: top;\n",
       "    }\n",
       "</style>\n",
       "<table border=\"1\" class=\"dataframe\">\n",
       "  <thead>\n",
       "    <tr style=\"text-align: right;\">\n",
       "      <th></th>\n",
       "      <th>product_name</th>\n",
       "      <th>product_category_tree</th>\n",
       "      <th>retail_price</th>\n",
       "      <th>discounted_price</th>\n",
       "      <th>is_FK_Advantage_product</th>\n",
       "      <th>product_rating</th>\n",
       "      <th>overall_rating</th>\n",
       "      <th>Brand_names</th>\n",
       "      <th>product_category</th>\n",
       "      <th>product_specs_refined</th>\n",
       "    </tr>\n",
       "  </thead>\n",
       "  <tbody>\n",
       "    <tr>\n",
       "      <th>12</th>\n",
       "      <td>Sicons All Purpose Tea Tree Dog Shampoo</td>\n",
       "      <td>[\"Pet Supplies &gt;&gt; Grooming &gt;&gt; Skin &amp; Coat Care...</td>\n",
       "      <td>1049.0</td>\n",
       "      <td>554.0</td>\n",
       "      <td>False</td>\n",
       "      <td>No rating available</td>\n",
       "      <td>No rating available</td>\n",
       "      <td>Sicons</td>\n",
       "      <td>Pet Supplies</td>\n",
       "      <td>{\"product_specification\"=&gt;[{\"key\"=&gt;\"Pet Type\",...</td>\n",
       "    </tr>\n",
       "    <tr>\n",
       "      <th>70</th>\n",
       "      <td>Eurospa Cotton Terry Face Towel Set</td>\n",
       "      <td>[\"Baby Care &gt;&gt; Baby Bath &amp; Skin &gt;&gt; Baby Bath T...</td>\n",
       "      <td>1049.0</td>\n",
       "      <td>554.0</td>\n",
       "      <td>False</td>\n",
       "      <td>No rating available</td>\n",
       "      <td>No rating available</td>\n",
       "      <td>Eurospa</td>\n",
       "      <td>Baby Care</td>\n",
       "      <td>{\"product_specification\"=&gt;[{\"key\"=&gt;\"Material\",...</td>\n",
       "    </tr>\n",
       "    <tr>\n",
       "      <th>707</th>\n",
       "      <td>Techware Microwavable Tea Cups WF13115 - Purpl...</td>\n",
       "      <td>[\"Kitchen &amp; Dining &gt;&gt; Dinnerware &amp; Crockery &gt;&gt;...</td>\n",
       "      <td>1049.0</td>\n",
       "      <td>554.0</td>\n",
       "      <td>False</td>\n",
       "      <td>No rating available</td>\n",
       "      <td>No rating available</td>\n",
       "      <td>Techware</td>\n",
       "      <td>Kitchen &amp; Dining</td>\n",
       "      <td>{\"product_specification\"=&gt;[{\"key\"=&gt;\"Brand\", \"v...</td>\n",
       "    </tr>\n",
       "  </tbody>\n",
       "</table>\n",
       "</div>"
      ],
      "text/plain": [
       "                                          product_name  \\\n",
       "12             Sicons All Purpose Tea Tree Dog Shampoo   \n",
       "70                 Eurospa Cotton Terry Face Towel Set   \n",
       "707  Techware Microwavable Tea Cups WF13115 - Purpl...   \n",
       "\n",
       "                                 product_category_tree  retail_price  \\\n",
       "12   [\"Pet Supplies >> Grooming >> Skin & Coat Care...        1049.0   \n",
       "70   [\"Baby Care >> Baby Bath & Skin >> Baby Bath T...        1049.0   \n",
       "707  [\"Kitchen & Dining >> Dinnerware & Crockery >>...        1049.0   \n",
       "\n",
       "     discounted_price  is_FK_Advantage_product       product_rating  \\\n",
       "12              554.0                    False  No rating available   \n",
       "70              554.0                    False  No rating available   \n",
       "707             554.0                    False  No rating available   \n",
       "\n",
       "          overall_rating Brand_names   product_category  \\\n",
       "12   No rating available      Sicons      Pet Supplies    \n",
       "70   No rating available     Eurospa         Baby Care    \n",
       "707  No rating available    Techware  Kitchen & Dining    \n",
       "\n",
       "                                 product_specs_refined  \n",
       "12   {\"product_specification\"=>[{\"key\"=>\"Pet Type\",...  \n",
       "70   {\"product_specification\"=>[{\"key\"=>\"Material\",...  \n",
       "707  {\"product_specification\"=>[{\"key\"=>\"Brand\", \"v...  "
      ]
     },
     "execution_count": 131,
     "metadata": {},
     "output_type": "execute_result"
    }
   ],
   "source": [
    "df_no_retail_disc.head(3)"
   ]
  },
  {
   "cell_type": "code",
   "execution_count": 132,
   "metadata": {
    "collapsed": true
   },
   "outputs": [],
   "source": [
    "frames = [df_retail_disc,df_no_retail_disc]"
   ]
  },
  {
   "cell_type": "code",
   "execution_count": 133,
   "metadata": {
    "collapsed": true
   },
   "outputs": [],
   "source": [
    "df = pd.concat(frames)"
   ]
  },
  {
   "cell_type": "code",
   "execution_count": 134,
   "metadata": {},
   "outputs": [
    {
     "data": {
      "text/html": [
       "<div>\n",
       "<style>\n",
       "    .dataframe thead tr:only-child th {\n",
       "        text-align: right;\n",
       "    }\n",
       "\n",
       "    .dataframe thead th {\n",
       "        text-align: left;\n",
       "    }\n",
       "\n",
       "    .dataframe tbody tr th {\n",
       "        vertical-align: top;\n",
       "    }\n",
       "</style>\n",
       "<table border=\"1\" class=\"dataframe\">\n",
       "  <thead>\n",
       "    <tr style=\"text-align: right;\">\n",
       "      <th></th>\n",
       "      <th>product_name</th>\n",
       "      <th>product_category_tree</th>\n",
       "      <th>retail_price</th>\n",
       "      <th>discounted_price</th>\n",
       "      <th>is_FK_Advantage_product</th>\n",
       "      <th>product_rating</th>\n",
       "      <th>overall_rating</th>\n",
       "      <th>Brand_names</th>\n",
       "      <th>product_category</th>\n",
       "      <th>product_specs_refined</th>\n",
       "    </tr>\n",
       "  </thead>\n",
       "  <tbody>\n",
       "    <tr>\n",
       "      <th>0</th>\n",
       "      <td>Alisha Solid Women's Cycling Shorts</td>\n",
       "      <td>[\"Clothing &gt;&gt; Women's Clothing &gt;&gt; Lingerie, Sl...</td>\n",
       "      <td>999.0</td>\n",
       "      <td>379.0</td>\n",
       "      <td>False</td>\n",
       "      <td>No rating available</td>\n",
       "      <td>No rating available</td>\n",
       "      <td>Alisha</td>\n",
       "      <td>Clothing</td>\n",
       "      <td>{\"product_specification\"=&gt;[{\"key\"=&gt;\"Number of ...</td>\n",
       "    </tr>\n",
       "    <tr>\n",
       "      <th>1</th>\n",
       "      <td>FabHomeDecor Fabric Double Sofa Bed</td>\n",
       "      <td>[\"Furniture &gt;&gt; Living Room Furniture &gt;&gt; Sofa B...</td>\n",
       "      <td>32157.0</td>\n",
       "      <td>22646.0</td>\n",
       "      <td>False</td>\n",
       "      <td>No rating available</td>\n",
       "      <td>No rating available</td>\n",
       "      <td>FabHomeDecor</td>\n",
       "      <td>Furniture</td>\n",
       "      <td>{\"product_specification\"=&gt;[{\"key\"=&gt;\"Installati...</td>\n",
       "    </tr>\n",
       "    <tr>\n",
       "      <th>2</th>\n",
       "      <td>AW Bellies</td>\n",
       "      <td>[\"Footwear &gt;&gt; Women's Footwear &gt;&gt; Ballerinas &gt;...</td>\n",
       "      <td>999.0</td>\n",
       "      <td>499.0</td>\n",
       "      <td>False</td>\n",
       "      <td>No rating available</td>\n",
       "      <td>No rating available</td>\n",
       "      <td>AW</td>\n",
       "      <td>Footwear</td>\n",
       "      <td>{\"product_specification\"=&gt;[{\"key\"=&gt;\"Ideal For\"...</td>\n",
       "    </tr>\n",
       "    <tr>\n",
       "      <th>3</th>\n",
       "      <td>Alisha Solid Women's Cycling Shorts</td>\n",
       "      <td>[\"Clothing &gt;&gt; Women's Clothing &gt;&gt; Lingerie, Sl...</td>\n",
       "      <td>699.0</td>\n",
       "      <td>267.0</td>\n",
       "      <td>False</td>\n",
       "      <td>No rating available</td>\n",
       "      <td>No rating available</td>\n",
       "      <td>Alisha</td>\n",
       "      <td>Clothing</td>\n",
       "      <td>{\"product_specification\"=&gt;[{\"key\"=&gt;\"Number of ...</td>\n",
       "    </tr>\n",
       "    <tr>\n",
       "      <th>4</th>\n",
       "      <td>Sicons All Purpose Arnica Dog Shampoo</td>\n",
       "      <td>[\"Pet Supplies &gt;&gt; Grooming &gt;&gt; Skin &amp; Coat Care...</td>\n",
       "      <td>220.0</td>\n",
       "      <td>210.0</td>\n",
       "      <td>False</td>\n",
       "      <td>No rating available</td>\n",
       "      <td>No rating available</td>\n",
       "      <td>Sicons</td>\n",
       "      <td>Pet Supplies</td>\n",
       "      <td>{\"product_specification\"=&gt;[{\"key\"=&gt;\"Pet Type\",...</td>\n",
       "    </tr>\n",
       "  </tbody>\n",
       "</table>\n",
       "</div>"
      ],
      "text/plain": [
       "                            product_name  \\\n",
       "0    Alisha Solid Women's Cycling Shorts   \n",
       "1    FabHomeDecor Fabric Double Sofa Bed   \n",
       "2                             AW Bellies   \n",
       "3    Alisha Solid Women's Cycling Shorts   \n",
       "4  Sicons All Purpose Arnica Dog Shampoo   \n",
       "\n",
       "                               product_category_tree  retail_price  \\\n",
       "0  [\"Clothing >> Women's Clothing >> Lingerie, Sl...         999.0   \n",
       "1  [\"Furniture >> Living Room Furniture >> Sofa B...       32157.0   \n",
       "2  [\"Footwear >> Women's Footwear >> Ballerinas >...         999.0   \n",
       "3  [\"Clothing >> Women's Clothing >> Lingerie, Sl...         699.0   \n",
       "4  [\"Pet Supplies >> Grooming >> Skin & Coat Care...         220.0   \n",
       "\n",
       "   discounted_price  is_FK_Advantage_product       product_rating  \\\n",
       "0             379.0                    False  No rating available   \n",
       "1           22646.0                    False  No rating available   \n",
       "2             499.0                    False  No rating available   \n",
       "3             267.0                    False  No rating available   \n",
       "4             210.0                    False  No rating available   \n",
       "\n",
       "        overall_rating   Brand_names product_category  \\\n",
       "0  No rating available        Alisha        Clothing    \n",
       "1  No rating available  FabHomeDecor       Furniture    \n",
       "2  No rating available            AW        Footwear    \n",
       "3  No rating available        Alisha        Clothing    \n",
       "4  No rating available        Sicons    Pet Supplies    \n",
       "\n",
       "                               product_specs_refined  \n",
       "0  {\"product_specification\"=>[{\"key\"=>\"Number of ...  \n",
       "1  {\"product_specification\"=>[{\"key\"=>\"Installati...  \n",
       "2  {\"product_specification\"=>[{\"key\"=>\"Ideal For\"...  \n",
       "3  {\"product_specification\"=>[{\"key\"=>\"Number of ...  \n",
       "4  {\"product_specification\"=>[{\"key\"=>\"Pet Type\",...  "
      ]
     },
     "execution_count": 134,
     "metadata": {},
     "output_type": "execute_result"
    }
   ],
   "source": [
    "df.head()"
   ]
  },
  {
   "cell_type": "markdown",
   "metadata": {},
   "source": [
    "## Checking for 'No ratings available' in overall_rating and product_rating"
   ]
  },
  {
   "cell_type": "code",
   "execution_count": 135,
   "metadata": {
    "scrolled": true
   },
   "outputs": [
    {
     "name": "stdout",
     "output_type": "stream",
     "text": [
      "<class 'pandas.core.frame.DataFrame'>\n",
      "Int64Index: 17595 entries, 0 to 19438\n",
      "Data columns (total 10 columns):\n",
      "product_name               17595 non-null object\n",
      "product_category_tree      17595 non-null object\n",
      "retail_price               17595 non-null float64\n",
      "discounted_price           17595 non-null float64\n",
      "is_FK_Advantage_product    17595 non-null bool\n",
      "product_rating             17595 non-null object\n",
      "overall_rating             17595 non-null object\n",
      "Brand_names                17595 non-null object\n",
      "product_category           17595 non-null object\n",
      "product_specs_refined      17595 non-null object\n",
      "dtypes: bool(1), float64(2), object(7)\n",
      "memory usage: 910.7+ KB\n"
     ]
    }
   ],
   "source": [
    "df[df['overall_rating'] == 'No rating available'].info()"
   ]
  },
  {
   "cell_type": "markdown",
   "metadata": {},
   "source": [
    "### Seperating and filling it with random integers between 0 to 5, since predicting 17595 on the basis of 1500 data would not be fair"
   ]
  },
  {
   "cell_type": "code",
   "execution_count": 136,
   "metadata": {
    "collapsed": true
   },
   "outputs": [],
   "source": [
    "df_no_ratings = df[df['overall_rating'] == 'No rating available']"
   ]
  },
  {
   "cell_type": "code",
   "execution_count": 137,
   "metadata": {
    "collapsed": true
   },
   "outputs": [],
   "source": [
    "df_ratings = df[df['overall_rating'] != 'No rating available']"
   ]
  },
  {
   "cell_type": "code",
   "execution_count": 138,
   "metadata": {},
   "outputs": [
    {
     "name": "stderr",
     "output_type": "stream",
     "text": [
      "C:\\Users\\h_asp\\Anaconda3\\lib\\site-packages\\ipykernel\\__main__.py:2: SettingWithCopyWarning: \n",
      "A value is trying to be set on a copy of a slice from a DataFrame.\n",
      "Try using .loc[row_indexer,col_indexer] = value instead\n",
      "\n",
      "See the caveats in the documentation: http://pandas.pydata.org/pandas-docs/stable/indexing.html#indexing-view-versus-copy\n",
      "  from ipykernel import kernelapp as app\n",
      "C:\\Users\\h_asp\\Anaconda3\\lib\\site-packages\\ipykernel\\__main__.py:3: SettingWithCopyWarning: \n",
      "A value is trying to be set on a copy of a slice from a DataFrame.\n",
      "Try using .loc[row_indexer,col_indexer] = value instead\n",
      "\n",
      "See the caveats in the documentation: http://pandas.pydata.org/pandas-docs/stable/indexing.html#indexing-view-versus-copy\n",
      "  app.launch_new_instance()\n"
     ]
    }
   ],
   "source": [
    "np.random.seed(123)\n",
    "df_no_ratings['product_rating'] = np.random.randint(0,6,17595)\n",
    "df_no_ratings['overall_rating'] = np.random.randint(0,6,17595)"
   ]
  },
  {
   "cell_type": "code",
   "execution_count": 139,
   "metadata": {},
   "outputs": [
    {
     "data": {
      "text/html": [
       "<div>\n",
       "<style>\n",
       "    .dataframe thead tr:only-child th {\n",
       "        text-align: right;\n",
       "    }\n",
       "\n",
       "    .dataframe thead th {\n",
       "        text-align: left;\n",
       "    }\n",
       "\n",
       "    .dataframe tbody tr th {\n",
       "        vertical-align: top;\n",
       "    }\n",
       "</style>\n",
       "<table border=\"1\" class=\"dataframe\">\n",
       "  <thead>\n",
       "    <tr style=\"text-align: right;\">\n",
       "      <th></th>\n",
       "      <th>product_name</th>\n",
       "      <th>product_category_tree</th>\n",
       "      <th>retail_price</th>\n",
       "      <th>discounted_price</th>\n",
       "      <th>is_FK_Advantage_product</th>\n",
       "      <th>product_rating</th>\n",
       "      <th>overall_rating</th>\n",
       "      <th>Brand_names</th>\n",
       "      <th>product_category</th>\n",
       "      <th>product_specs_refined</th>\n",
       "    </tr>\n",
       "  </thead>\n",
       "  <tbody>\n",
       "    <tr>\n",
       "      <th>0</th>\n",
       "      <td>Alisha Solid Women's Cycling Shorts</td>\n",
       "      <td>[\"Clothing &gt;&gt; Women's Clothing &gt;&gt; Lingerie, Sl...</td>\n",
       "      <td>999.0</td>\n",
       "      <td>379.0</td>\n",
       "      <td>False</td>\n",
       "      <td>5</td>\n",
       "      <td>3</td>\n",
       "      <td>Alisha</td>\n",
       "      <td>Clothing</td>\n",
       "      <td>{\"product_specification\"=&gt;[{\"key\"=&gt;\"Number of ...</td>\n",
       "    </tr>\n",
       "    <tr>\n",
       "      <th>1</th>\n",
       "      <td>FabHomeDecor Fabric Double Sofa Bed</td>\n",
       "      <td>[\"Furniture &gt;&gt; Living Room Furniture &gt;&gt; Sofa B...</td>\n",
       "      <td>32157.0</td>\n",
       "      <td>22646.0</td>\n",
       "      <td>False</td>\n",
       "      <td>2</td>\n",
       "      <td>5</td>\n",
       "      <td>FabHomeDecor</td>\n",
       "      <td>Furniture</td>\n",
       "      <td>{\"product_specification\"=&gt;[{\"key\"=&gt;\"Installati...</td>\n",
       "    </tr>\n",
       "    <tr>\n",
       "      <th>2</th>\n",
       "      <td>AW Bellies</td>\n",
       "      <td>[\"Footwear &gt;&gt; Women's Footwear &gt;&gt; Ballerinas &gt;...</td>\n",
       "      <td>999.0</td>\n",
       "      <td>499.0</td>\n",
       "      <td>False</td>\n",
       "      <td>4</td>\n",
       "      <td>3</td>\n",
       "      <td>AW</td>\n",
       "      <td>Footwear</td>\n",
       "      <td>{\"product_specification\"=&gt;[{\"key\"=&gt;\"Ideal For\"...</td>\n",
       "    </tr>\n",
       "    <tr>\n",
       "      <th>3</th>\n",
       "      <td>Alisha Solid Women's Cycling Shorts</td>\n",
       "      <td>[\"Clothing &gt;&gt; Women's Clothing &gt;&gt; Lingerie, Sl...</td>\n",
       "      <td>699.0</td>\n",
       "      <td>267.0</td>\n",
       "      <td>False</td>\n",
       "      <td>2</td>\n",
       "      <td>4</td>\n",
       "      <td>Alisha</td>\n",
       "      <td>Clothing</td>\n",
       "      <td>{\"product_specification\"=&gt;[{\"key\"=&gt;\"Number of ...</td>\n",
       "    </tr>\n",
       "    <tr>\n",
       "      <th>4</th>\n",
       "      <td>Sicons All Purpose Arnica Dog Shampoo</td>\n",
       "      <td>[\"Pet Supplies &gt;&gt; Grooming &gt;&gt; Skin &amp; Coat Care...</td>\n",
       "      <td>220.0</td>\n",
       "      <td>210.0</td>\n",
       "      <td>False</td>\n",
       "      <td>1</td>\n",
       "      <td>3</td>\n",
       "      <td>Sicons</td>\n",
       "      <td>Pet Supplies</td>\n",
       "      <td>{\"product_specification\"=&gt;[{\"key\"=&gt;\"Pet Type\",...</td>\n",
       "    </tr>\n",
       "    <tr>\n",
       "      <th>5</th>\n",
       "      <td>Eternal Gandhi Super Series Crystal Paper Weig...</td>\n",
       "      <td>[\"Eternal Gandhi Super Series Crystal Paper We...</td>\n",
       "      <td>430.0</td>\n",
       "      <td>430.0</td>\n",
       "      <td>False</td>\n",
       "      <td>3</td>\n",
       "      <td>4</td>\n",
       "      <td>Eternal Gandhi</td>\n",
       "      <td>Eternal Gandhi Super Series Crystal Paper Weig...</td>\n",
       "      <td>{\"product_specification\"=&gt;[{\"key\"=&gt;\"Model Name...</td>\n",
       "    </tr>\n",
       "  </tbody>\n",
       "</table>\n",
       "</div>"
      ],
      "text/plain": [
       "                                        product_name  \\\n",
       "0                Alisha Solid Women's Cycling Shorts   \n",
       "1                FabHomeDecor Fabric Double Sofa Bed   \n",
       "2                                         AW Bellies   \n",
       "3                Alisha Solid Women's Cycling Shorts   \n",
       "4              Sicons All Purpose Arnica Dog Shampoo   \n",
       "5  Eternal Gandhi Super Series Crystal Paper Weig...   \n",
       "\n",
       "                               product_category_tree  retail_price  \\\n",
       "0  [\"Clothing >> Women's Clothing >> Lingerie, Sl...         999.0   \n",
       "1  [\"Furniture >> Living Room Furniture >> Sofa B...       32157.0   \n",
       "2  [\"Footwear >> Women's Footwear >> Ballerinas >...         999.0   \n",
       "3  [\"Clothing >> Women's Clothing >> Lingerie, Sl...         699.0   \n",
       "4  [\"Pet Supplies >> Grooming >> Skin & Coat Care...         220.0   \n",
       "5  [\"Eternal Gandhi Super Series Crystal Paper We...         430.0   \n",
       "\n",
       "   discounted_price  is_FK_Advantage_product  product_rating  overall_rating  \\\n",
       "0             379.0                    False               5               3   \n",
       "1           22646.0                    False               2               5   \n",
       "2             499.0                    False               4               3   \n",
       "3             267.0                    False               2               4   \n",
       "4             210.0                    False               1               3   \n",
       "5             430.0                    False               3               4   \n",
       "\n",
       "      Brand_names                                   product_category  \\\n",
       "0          Alisha                                          Clothing    \n",
       "1    FabHomeDecor                                         Furniture    \n",
       "2              AW                                          Footwear    \n",
       "3          Alisha                                          Clothing    \n",
       "4          Sicons                                      Pet Supplies    \n",
       "5  Eternal Gandhi  Eternal Gandhi Super Series Crystal Paper Weig...   \n",
       "\n",
       "                               product_specs_refined  \n",
       "0  {\"product_specification\"=>[{\"key\"=>\"Number of ...  \n",
       "1  {\"product_specification\"=>[{\"key\"=>\"Installati...  \n",
       "2  {\"product_specification\"=>[{\"key\"=>\"Ideal For\"...  \n",
       "3  {\"product_specification\"=>[{\"key\"=>\"Number of ...  \n",
       "4  {\"product_specification\"=>[{\"key\"=>\"Pet Type\",...  \n",
       "5  {\"product_specification\"=>[{\"key\"=>\"Model Name...  "
      ]
     },
     "execution_count": 139,
     "metadata": {},
     "output_type": "execute_result"
    }
   ],
   "source": [
    "df_no_ratings.head(6)"
   ]
  },
  {
   "cell_type": "code",
   "execution_count": 140,
   "metadata": {
    "collapsed": true
   },
   "outputs": [],
   "source": [
    "x = np.random.randint(4,5,5)"
   ]
  },
  {
   "cell_type": "code",
   "execution_count": 141,
   "metadata": {},
   "outputs": [
    {
     "data": {
      "text/plain": [
       "array([4, 4, 4, 4, 4])"
      ]
     },
     "execution_count": 141,
     "metadata": {},
     "output_type": "execute_result"
    }
   ],
   "source": [
    "x"
   ]
  },
  {
   "cell_type": "code",
   "execution_count": 142,
   "metadata": {
    "collapsed": true
   },
   "outputs": [],
   "source": [
    "frames = [df_no_ratings,df_ratings]"
   ]
  },
  {
   "cell_type": "code",
   "execution_count": 143,
   "metadata": {},
   "outputs": [
    {
     "data": {
      "text/html": [
       "<div>\n",
       "<style>\n",
       "    .dataframe thead tr:only-child th {\n",
       "        text-align: right;\n",
       "    }\n",
       "\n",
       "    .dataframe thead th {\n",
       "        text-align: left;\n",
       "    }\n",
       "\n",
       "    .dataframe tbody tr th {\n",
       "        vertical-align: top;\n",
       "    }\n",
       "</style>\n",
       "<table border=\"1\" class=\"dataframe\">\n",
       "  <thead>\n",
       "    <tr style=\"text-align: right;\">\n",
       "      <th></th>\n",
       "      <th>product_name</th>\n",
       "      <th>product_category_tree</th>\n",
       "      <th>retail_price</th>\n",
       "      <th>discounted_price</th>\n",
       "      <th>is_FK_Advantage_product</th>\n",
       "      <th>product_rating</th>\n",
       "      <th>overall_rating</th>\n",
       "      <th>Brand_names</th>\n",
       "      <th>product_category</th>\n",
       "      <th>product_specs_refined</th>\n",
       "    </tr>\n",
       "  </thead>\n",
       "  <tbody>\n",
       "    <tr>\n",
       "      <th>0</th>\n",
       "      <td>Alisha Solid Women's Cycling Shorts</td>\n",
       "      <td>[\"Clothing &gt;&gt; Women's Clothing &gt;&gt; Lingerie, Sl...</td>\n",
       "      <td>999.0</td>\n",
       "      <td>379.0</td>\n",
       "      <td>False</td>\n",
       "      <td>5</td>\n",
       "      <td>3</td>\n",
       "      <td>Alisha</td>\n",
       "      <td>Clothing</td>\n",
       "      <td>{\"product_specification\"=&gt;[{\"key\"=&gt;\"Number of ...</td>\n",
       "    </tr>\n",
       "    <tr>\n",
       "      <th>1</th>\n",
       "      <td>FabHomeDecor Fabric Double Sofa Bed</td>\n",
       "      <td>[\"Furniture &gt;&gt; Living Room Furniture &gt;&gt; Sofa B...</td>\n",
       "      <td>32157.0</td>\n",
       "      <td>22646.0</td>\n",
       "      <td>False</td>\n",
       "      <td>2</td>\n",
       "      <td>5</td>\n",
       "      <td>FabHomeDecor</td>\n",
       "      <td>Furniture</td>\n",
       "      <td>{\"product_specification\"=&gt;[{\"key\"=&gt;\"Installati...</td>\n",
       "    </tr>\n",
       "  </tbody>\n",
       "</table>\n",
       "</div>"
      ],
      "text/plain": [
       "                          product_name  \\\n",
       "0  Alisha Solid Women's Cycling Shorts   \n",
       "1  FabHomeDecor Fabric Double Sofa Bed   \n",
       "\n",
       "                               product_category_tree  retail_price  \\\n",
       "0  [\"Clothing >> Women's Clothing >> Lingerie, Sl...         999.0   \n",
       "1  [\"Furniture >> Living Room Furniture >> Sofa B...       32157.0   \n",
       "\n",
       "   discounted_price  is_FK_Advantage_product product_rating overall_rating  \\\n",
       "0             379.0                    False              5              3   \n",
       "1           22646.0                    False              2              5   \n",
       "\n",
       "    Brand_names product_category  \\\n",
       "0        Alisha        Clothing    \n",
       "1  FabHomeDecor       Furniture    \n",
       "\n",
       "                               product_specs_refined  \n",
       "0  {\"product_specification\"=>[{\"key\"=>\"Number of ...  \n",
       "1  {\"product_specification\"=>[{\"key\"=>\"Installati...  "
      ]
     },
     "execution_count": 143,
     "metadata": {},
     "output_type": "execute_result"
    }
   ],
   "source": [
    "df = pd.concat(frames)\n",
    "df.head(2)"
   ]
  },
  {
   "cell_type": "code",
   "execution_count": 147,
   "metadata": {
    "collapsed": true
   },
   "outputs": [],
   "source": [
    "df.to_csv('flipkart_final_cleared.csv',encoding='utf-8')"
   ]
  },
  {
   "cell_type": "code",
   "execution_count": 148,
   "metadata": {
    "scrolled": true
   },
   "outputs": [
    {
     "name": "stdout",
     "output_type": "stream",
     "text": [
      "<class 'pandas.core.frame.DataFrame'>\n",
      "Int64Index: 19441 entries, 0 to 19179\n",
      "Data columns (total 10 columns):\n",
      "product_name               19441 non-null object\n",
      "product_category_tree      19441 non-null object\n",
      "retail_price               19441 non-null float64\n",
      "discounted_price           19441 non-null float64\n",
      "is_FK_Advantage_product    19441 non-null bool\n",
      "product_rating             19441 non-null object\n",
      "overall_rating             19441 non-null object\n",
      "Brand_names                19441 non-null object\n",
      "product_category           19441 non-null object\n",
      "product_specs_refined      19441 non-null object\n",
      "dtypes: bool(1), float64(2), object(7)\n",
      "memory usage: 1006.2+ KB\n"
     ]
    }
   ],
   "source": [
    "df.info()"
   ]
  },
  {
   "cell_type": "markdown",
   "metadata": {
    "collapsed": true
   },
   "source": [
    "## This dataframe is the cleaned data finally and we have now 19441 data with all almost correct data"
   ]
  },
  {
   "cell_type": "code",
   "execution_count": null,
   "metadata": {
    "collapsed": true
   },
   "outputs": [],
   "source": []
  }
 ],
 "metadata": {
  "kernelspec": {
   "display_name": "Python [conda env:Anaconda3]",
   "language": "python",
   "name": "conda-env-Anaconda3-py"
  },
  "language_info": {
   "codemirror_mode": {
    "name": "ipython",
    "version": 3
   },
   "file_extension": ".py",
   "mimetype": "text/x-python",
   "name": "python",
   "nbconvert_exporter": "python",
   "pygments_lexer": "ipython3",
   "version": "3.6.4"
  }
 },
 "nbformat": 4,
 "nbformat_minor": 2
}
